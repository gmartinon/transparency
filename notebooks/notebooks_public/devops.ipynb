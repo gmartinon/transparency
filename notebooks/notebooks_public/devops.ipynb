{
 "cells": [
  {
   "cell_type": "markdown",
   "metadata": {},
   "source": [
    "# DevOps - tutoriel\n",
    "Je dois implémenter une fonctionalité dans un code collaboratif. Comment faire ?"
   ]
  },
  {
   "cell_type": "markdown",
   "metadata": {},
   "source": [
    "### 0. Structure du projet \n",
    "Si le projet a la structure suivante (exemple de Domain Driven Design) :\n",
    "\n",
    "```\n",
    "project/\n",
    "├── __init__.py\n",
    "├── application\n",
    "│   ├── __init__.py\n",
    "├── domain\n",
    "│   ├── __init__.py\n",
    "│   ├── translate.py\n",
    "├── infrastructure\n",
    "│   ├── __init__.py\n",
    "```\n",
    "\n",
    "alors le répertoire de test doit imiter cette structure. Notamment, on retrouve les répertoires `infrastructure`, `domain`, `application`.\n",
    "\n",
    "```\n",
    "tests/\n",
    "├── __init__.py\n",
    "└── unit_tests\n",
    "    ├── application\n",
    "    │   ├── __init__.py\n",
    "    ├── domain\n",
    "    │   ├── __init__.py\n",
    "    │   └── test_translate.py\n",
    "    ├── infrastructure\n",
    "    │   ├── __init__.py\n",
    "```"
   ]
  },
  {
   "cell_type": "markdown",
   "metadata": {},
   "source": [
    "### 1. Créer une branche spécifique\n",
    "\n",
    "Chaque nouvelle fonctionalité doit faire l'objet d'une branche spécifique pour ne pas polluer la branche principale (surtout en open-source).\n",
    "\n",
    "<img src=\"images/git.png\" style=\"width: 400px;\"/>\n",
    "\n",
    "Pour ce faire, une ligne de commande à appliquer :\n",
    "\n",
    "`git checkout -b ma_fonctionalite`\n",
    "\n",
    "Pour vérifier que vous êtes bien sur la bonne branche, tapez `git branch -a`\n",
    "\n",
    "<img src=\"images/branch.png\"/>"
   ]
  },
  {
   "cell_type": "markdown",
   "metadata": {},
   "source": [
    "### 2. Coder le test unitaire\n",
    "Le test unitaire permet d'assurer la non-régression du code. On doit lui fournir une entrée simple, et une sortie attendue.\n",
    "\n",
    "Codons alors notre test unitaire. On utilise le paquet [unittest](https://docs.python.org/3/library/unittest.html)."
   ]
  },
  {
   "cell_type": "code",
   "execution_count": 1,
   "metadata": {},
   "outputs": [],
   "source": [
    "# Contenu du fichier tests/unit_tests/domain/test_translate.py\n",
    "import unittest\n",
    "from transparency.domain.translate import translate_names\n",
    "\n",
    "class TestTranslateNames(unittest.TestCase):\n",
    "    \n",
    "    def test_translate_name(self):\n",
    "        # entrées simples\n",
    "        old_names = ['X_1', 'X_2']\n",
    "        features_dict = {'X_1': 'âge', 'X_2': 'profession'}\n",
    "        \n",
    "        # résultat de la fonction\n",
    "        output = translate_names(old_names, features_dict)\n",
    "        \n",
    "        # résultat attendu\n",
    "        expected = ['âge', 'profession']\n",
    "        \n",
    "        # test unitaire\n",
    "        self.assertListEqual(output, expected)"
   ]
  },
  {
   "cell_type": "markdown",
   "metadata": {},
   "source": [
    "### 3. Coder la fonctionalité\n",
    "\n",
    "On va définir la fonction souhaitée."
   ]
  },
  {
   "cell_type": "code",
   "execution_count": 2,
   "metadata": {},
   "outputs": [],
   "source": [
    "# Contenu du fichier project/domain/translate.py\n",
    "def translate_names(names, features_dict):\n",
    "    return [features_dict[name] for name in names]"
   ]
  },
  {
   "cell_type": "markdown",
   "metadata": {},
   "source": [
    "### 4. Tester la fonctionalité\n",
    "Pour ce faire, il suffit dans lancer les tests via le Makefile :\n",
    "\n",
    "`make tests`\n",
    "\n",
    "Un exemple de test raté :\n",
    "\n",
    "<img src=\"images/failure.png\"/>\n",
    "\n",
    "Un exemple de test réussi :\n",
    "\n",
    "<img src=\"images/success.png\"/>"
   ]
  },
  {
   "cell_type": "markdown",
   "metadata": {},
   "source": [
    "### 5. Documenter la fonctionalité\n",
    "Maintenant qu'on est sûr que la fonctionalité est opérationnelle, il faut la documenter pour que chacun puisse la comprendre. On doit toujours remplir la docstring de la fonction, qui doit contenir :\n",
    "* une description courte\n",
    "* la description des paramètres d'entrées (type, rôle)\n",
    "* la descriptioin des paramètres de sortie s'il y en a"
   ]
  },
  {
   "cell_type": "code",
   "execution_count": 3,
   "metadata": {},
   "outputs": [],
   "source": [
    "# Contenu du fichier project/domain/translate.py\n",
    "def translate_names(names, features_dict):\n",
    "    \"\"\"\n",
    "    Convert a list of technical names to a a list of business names.\n",
    "    \n",
    "    Parameters\n",
    "    ----------\n",
    "    names : list\n",
    "        List of all technical names (strings) to translate.\n",
    "    features_dict : dict\n",
    "        Dictionary mapping technical names to business names.\n",
    "    \n",
    "    Returns\n",
    "    -------\n",
    "    List\n",
    "        The list of business names obtained.\n",
    "    \"\"\"\n",
    "    return [features_dict[name] for name in names]"
   ]
  },
  {
   "cell_type": "markdown",
   "metadata": {},
   "source": [
    "### 6. Réviser la fonctionalité\n",
    "\n",
    "C'est le moment d'appeler un collègue et lui demander ce qu'il pense de notre code ! La coopération permet de rendre les codes plus robustes et de tester en conditions réelles la lisibilité du code. Votre collègue vous fait d'ailleurs remarquer que la fonction `map` est [plus rapide](https://stackoverflow.com/a/1247490/5400651) que la compréhension de liste. Ainsi soit-il et changeons le code !"
   ]
  },
  {
   "cell_type": "code",
   "execution_count": 4,
   "metadata": {},
   "outputs": [],
   "source": [
    "# Contenu du fichier project/domain/translate.py\n",
    "def translate_names(names, features_dict):\n",
    "    \"\"\"\n",
    "    Convert a list of technical names to a a list of business names.\n",
    "    \n",
    "    Parameters\n",
    "    ----------\n",
    "    names : list\n",
    "        List of all technical names (strings) to translate.\n",
    "    features_dict : dict\n",
    "        Dictionary mapping technical names to business names.\n",
    "    \n",
    "    Returns\n",
    "    -------\n",
    "    List\n",
    "        The list of business names obtained.\n",
    "    \"\"\"\n",
    "    return list(map(features_dict.get, names)) # cette ligne a changé pour faire plaisir à votre collègue"
   ]
  },
  {
   "cell_type": "markdown",
   "metadata": {},
   "source": [
    "Evidemment, il faut s'assurer que l'on n'a pas fait régresser le code :\n",
    "\n",
    "`make_tests`"
   ]
  },
  {
   "cell_type": "markdown",
   "metadata": {},
   "source": [
    "### 7. Sauvegarder l'avancement sur la branche\n",
    "\n",
    "C'est l'heure de rentrer chez vous et vous continuerez demain ? Pensez à sauvegarder votre projet :\n",
    "\n",
    "* `git status` : permet de visualiser toutes vos modifications\n",
    "* `git add .` : permet à git de traquer vos modifications\n",
    "* `git commit -m \"start my new fonctionality\"` : permet à git d'enregistrer vos modifications en local"
   ]
  },
  {
   "cell_type": "markdown",
   "metadata": {},
   "source": [
    "### 8. Fusionner la branche\n",
    "\n",
    "Votre fonctionalité est terminée ? Il est temps de fusionner avec la branche principale :\n",
    "\n",
    "* `git checkout master`\n",
    "* `git merge ma_fonctionalite`\n",
    "\n",
    "Et voilà ! Vous pouvez passer une autre fonctionalité.\n",
    "\n",
    "**N.B. :** parfois, à l'issue de cette manipulation, il peut y avoir des conflits à résoudre, c'est-à-dire deux versions divergentes d'une même fonction. Des éditeurs de texte intelligents comme [VSCode](https://code.visualstudio.com/) permettent de résoudre les conflits en quelques clics ! Une fois les conflits résolus, il faut bien sûr `git commit` et `git push`."
   ]
  },
  {
   "cell_type": "markdown",
   "metadata": {},
   "source": [
    "### 9. Supprimer une branche\n",
    "\n",
    "Vous voulez supprimer une branche devenue inutile ?\n",
    "\n",
    "Pour supprimer la branche en local :\n",
    "\n",
    "`git branch -D ma_fonctionalite`"
   ]
  },
  {
   "cell_type": "code",
   "execution_count": null,
   "metadata": {},
   "outputs": [],
   "source": []
  }
 ],
 "metadata": {
  "kernelspec": {
   "display_name": "MAIF",
   "language": "python",
   "name": "maif"
  },
  "language_info": {
   "codemirror_mode": {
    "name": "ipython",
    "version": 3
   },
   "file_extension": ".py",
   "mimetype": "text/x-python",
   "name": "python",
   "nbconvert_exporter": "python",
   "pygments_lexer": "ipython3",
   "version": "3.7.3"
  }
 },
 "nbformat": 4,
 "nbformat_minor": 2
}
